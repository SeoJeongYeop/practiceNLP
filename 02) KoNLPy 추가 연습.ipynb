{
 "cells": [
  {
   "cell_type": "code",
   "execution_count": 1,
   "id": "ee4ee850",
   "metadata": {},
   "outputs": [
    {
     "name": "stdout",
     "output_type": "stream",
     "text": [
      "[('하다', 'Verb'), (',', 'Punctuation'), ('하다', 'Verb'), (',', 'Punctuation'), ('하다', 'Verb'), (',', 'Punctuation'), ('하다', 'Verb'), (',', 'Punctuation'), ('하자', 'Noun')]\n"
     ]
    }
   ],
   "source": [
    "from konlpy.tag import Okt\n",
    "okt = Okt()\n",
    "print(okt.pos('한다, 했다, 하세요, 하십시오, 하자 ', stem=True))"
   ]
  },
  {
   "cell_type": "code",
   "execution_count": 2,
   "id": "33f27478",
   "metadata": {},
   "outputs": [
    {
     "name": "stdout",
     "output_type": "stream",
     "text": [
      "[('하다', 'Verb'), ('하다', 'Verb'), ('하다', 'Verb'), ('하다', 'Verb'), ('하자', 'Noun')]\n"
     ]
    }
   ],
   "source": [
    "from konlpy.tag import Okt\n",
    "okt = Okt()\n",
    "print(okt.pos('한다 했다 하세요 하십시오 하자 ', stem=True))"
   ]
  },
  {
   "cell_type": "code",
   "execution_count": 3,
   "id": "5b437e21",
   "metadata": {},
   "outputs": [
    {
     "name": "stdout",
     "output_type": "stream",
     "text": [
      "[('하다', 'Verb'), ('하다', 'Verb'), ('하다', 'Verb'), ('하다', 'Verb')]\n"
     ]
    }
   ],
   "source": [
    "from konlpy.tag import Okt\n",
    "okt = Okt()\n",
    "print(okt.pos('한다 했다 하세요 하십시오', stem=True))"
   ]
  },
  {
   "cell_type": "code",
   "execution_count": 4,
   "id": "77bde468",
   "metadata": {},
   "outputs": [
    {
     "name": "stdout",
     "output_type": "stream",
     "text": [
      "[('한다', 'Verb'), ('했다', 'Verb'), ('하세요', 'Verb'), ('하십시오', 'Verb')]\n"
     ]
    }
   ],
   "source": [
    "from konlpy.tag import Okt\n",
    "okt = Okt()\n",
    "print(okt.pos('한다 했다 하세요 하십시오'))"
   ]
  },
  {
   "cell_type": "code",
   "execution_count": 5,
   "id": "809e095a",
   "metadata": {},
   "outputs": [
    {
     "name": "stdout",
     "output_type": "stream",
     "text": [
      "[('하', 'VV'), ('ㄴ다', 'ECS'), ('하', 'VV'), ('었', 'EPT'), ('다', 'ECS'), ('하세', 'NNG'), ('요', 'JX'), ('하', 'VV'), ('시', 'EPH'), ('ㅂ시오', 'EFN')]\n"
     ]
    }
   ],
   "source": [
    "from konlpy.tag import Kkma\n",
    "kkma = Kkma()\n",
    "print(kkma.pos('한다 했다 하세요 하십시오'))"
   ]
  },
  {
   "cell_type": "code",
   "execution_count": 6,
   "id": "73639df1",
   "metadata": {},
   "outputs": [
    {
     "ename": "SyntaxError",
     "evalue": "invalid syntax (<ipython-input-6-22b25c402b90>, line 3)",
     "output_type": "error",
     "traceback": [
      "\u001b[1;36m  File \u001b[1;32m\"<ipython-input-6-22b25c402b90>\"\u001b[1;36m, line \u001b[1;32m3\u001b[0m\n\u001b[1;33m    print(okt.('한다 했다 하세요 하십시오'))\u001b[0m\n\u001b[1;37m              ^\u001b[0m\n\u001b[1;31mSyntaxError\u001b[0m\u001b[1;31m:\u001b[0m invalid syntax\n"
     ]
    }
   ],
   "source": [
    "from konlpy.tag import Okt\n",
    "okt = Okt()\n",
    "print(okt.('한다 했다 하세요 하십시오'))"
   ]
  },
  {
   "cell_type": "code",
   "execution_count": 7,
   "id": "84b0f81e",
   "metadata": {},
   "outputs": [
    {
     "name": "stdout",
     "output_type": "stream",
     "text": [
      "['한다', '했다', '하세요', '하십시오']\n"
     ]
    }
   ],
   "source": [
    "from konlpy.tag import Okt\n",
    "okt = Okt()\n",
    "print(okt.morphs('한다 했다 하세요 하십시오'))"
   ]
  },
  {
   "cell_type": "code",
   "execution_count": 8,
   "id": "b2f32cb8",
   "metadata": {},
   "outputs": [
    {
     "name": "stdout",
     "output_type": "stream",
     "text": [
      "['내', '가', '그린', '기린', '그림']\n"
     ]
    }
   ],
   "source": [
    "from konlpy.tag import Okt\n",
    "okt = Okt()\n",
    "print(okt.morphs('내가그린기린그림'))"
   ]
  },
  {
   "cell_type": "code",
   "execution_count": 9,
   "id": "b11439df",
   "metadata": {},
   "outputs": [
    {
     "name": "stdout",
     "output_type": "stream",
     "text": [
      "['영어권', '언', '어는', '띄어쓰기', '만해', '도', '단어', '들', '이', '잘', '분리', '되지만', ',', '한국어', '는', '그렇지', '않다고', '앞', '에서', '몇', '차례', '언급', '했었습니다', '.']\n"
     ]
    }
   ],
   "source": [
    "from konlpy.tag import Okt\n",
    "okt = Okt()\n",
    "print(okt.morphs('영어권언어는띄어쓰기만해도단어들이잘분리되지만,한국어는그렇지않다고앞에서몇차례언급했었습니다.'))"
   ]
  },
  {
   "cell_type": "code",
   "execution_count": 10,
   "id": "701edb89",
   "metadata": {},
   "outputs": [
    {
     "name": "stdout",
     "output_type": "stream",
     "text": [
      "['은경', '이', '는', '사무실', '로', '갔습니다']\n"
     ]
    }
   ],
   "source": [
    "print(okt.morphs('은경이는사무실로갔습니다'))"
   ]
  },
  {
   "cell_type": "code",
   "execution_count": null,
   "id": "cadc50a4",
   "metadata": {},
   "outputs": [],
   "source": []
  }
 ],
 "metadata": {
  "kernelspec": {
   "display_name": "Python 3",
   "language": "python",
   "name": "python3"
  },
  "language_info": {
   "codemirror_mode": {
    "name": "ipython",
    "version": 3
   },
   "file_extension": ".py",
   "mimetype": "text/x-python",
   "name": "python",
   "nbconvert_exporter": "python",
   "pygments_lexer": "ipython3",
   "version": "3.8.10"
  }
 },
 "nbformat": 4,
 "nbformat_minor": 5
}
